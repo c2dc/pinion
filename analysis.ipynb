{
 "cells": [
  {
   "cell_type": "markdown",
   "metadata": {
    "colab_type": "text",
    "id": "Yx-VxT_wzXi6"
   },
   "source": [
    "# Agrupamento de dados\n"
   ]
  },
  {
   "cell_type": "code",
   "execution_count": 1,
   "metadata": {
    "colab": {},
    "colab_type": "code",
    "executionInfo": {
     "elapsed": 890,
     "status": "ok",
     "timestamp": 1596481448642,
     "user": {
      "displayName": "Filipe Alves Neto Verri",
      "photoUrl": "https://lh3.googleusercontent.com/a-/AOh14GiV7MMHmrkaugHXPDugQgeGecRd4s4T4ngvv5_A=s64",
      "userId": "07219587087217491568"
     },
     "user_tz": 180
    },
    "id": "XOr-9WVsYEhE"
   },
   "outputs": [],
   "source": [
    "import numpy as np # Numpy: biblioteca para manipular vetores e matrizes\n",
    "import pandas as pd # Pandas: biblioteca para manipular tabelas"
   ]
  },
  {
   "cell_type": "code",
   "execution_count": 2,
   "metadata": {
    "colab": {
     "base_uri": "https://localhost:8080/",
     "height": 34
    },
    "colab_type": "code",
    "executionInfo": {
     "elapsed": 883,
     "status": "ok",
     "timestamp": 1596481453897,
     "user": {
      "displayName": "Filipe Alves Neto Verri",
      "photoUrl": "https://lh3.googleusercontent.com/a-/AOh14GiV7MMHmrkaugHXPDugQgeGecRd4s4T4ngvv5_A=s64",
      "userId": "07219587087217491568"
     },
     "user_tz": 180
    },
    "id": "16GH5n9j1T59",
    "outputId": "0418e1ab-56ef-4c22-de38-c7a8ebcbd925"
   },
   "outputs": [
    {
     "name": "stdout",
     "output_type": "stream",
     "text": [
      "(2004, 9)\n",
      "   Unnamed: 0     id        lat        long  hour  proj  pltGrp  pltPosition  \\\n",
      "0           0  22879  22.713200  113.823898     6    27       0            0   \n",
      "1           1  22880  22.619600  113.857002    12    24       1            0   \n",
      "2           2  22881  22.668600  114.027702    16     7       2            0   \n",
      "3           3  22882  22.682301  114.044800     0     6       3            0   \n",
      "4           4  22883  22.672199  114.026199    14     8       4            0   \n",
      "\n",
      "   label  \n",
      "0      1  \n",
      "1      1  \n",
      "2      1  \n",
      "3      1  \n",
      "4      1  \n"
     ]
    }
   ],
   "source": [
    "data = pd.read_csv('shenzhenPlatoons13.csv')\n",
    "print(data.shape)\n",
    "print(data.head())"
   ]
  },
  {
   "cell_type": "code",
   "execution_count": 3,
   "metadata": {
    "colab": {},
    "colab_type": "code",
    "executionInfo": {
     "elapsed": 729,
     "status": "ok",
     "timestamp": 1596484645051,
     "user": {
      "displayName": "Filipe Alves Neto Verri",
      "photoUrl": "https://lh3.googleusercontent.com/a-/AOh14GiV7MMHmrkaugHXPDugQgeGecRd4s4T4ngvv5_A=s64",
      "userId": "07219587087217491568"
     },
     "user_tz": 180
    },
    "id": "mB6fuQG4Wyjr"
   },
   "outputs": [],
   "source": [
    "#X = data[['lat', 'long', 'hour']]\n",
    "X = data[['long', 'hour']]"
   ]
  },
  {
   "cell_type": "code",
   "execution_count": 4,
   "metadata": {
    "colab": {
     "base_uri": "https://localhost:8080/",
     "height": 434
    },
    "colab_type": "code",
    "executionInfo": {
     "elapsed": 741,
     "status": "ok",
     "timestamp": 1596484647294,
     "user": {
      "displayName": "Filipe Alves Neto Verri",
      "photoUrl": "https://lh3.googleusercontent.com/a-/AOh14GiV7MMHmrkaugHXPDugQgeGecRd4s4T4ngvv5_A=s64",
      "userId": "07219587087217491568"
     },
     "user_tz": 180
    },
    "id": "eux4HTXrtuln",
    "outputId": "913f95b6-f2bd-45da-9acd-f69249cca284"
   },
   "outputs": [
    {
     "data": {
      "text/html": [
       "<div>\n",
       "<style scoped>\n",
       "    .dataframe tbody tr th:only-of-type {\n",
       "        vertical-align: middle;\n",
       "    }\n",
       "\n",
       "    .dataframe tbody tr th {\n",
       "        vertical-align: top;\n",
       "    }\n",
       "\n",
       "    .dataframe thead th {\n",
       "        text-align: right;\n",
       "    }\n",
       "</style>\n",
       "<table border=\"1\" class=\"dataframe\">\n",
       "  <thead>\n",
       "    <tr style=\"text-align: right;\">\n",
       "      <th></th>\n",
       "      <th>long</th>\n",
       "      <th>hour</th>\n",
       "    </tr>\n",
       "  </thead>\n",
       "  <tbody>\n",
       "    <tr>\n",
       "      <th>0</th>\n",
       "      <td>113.823898</td>\n",
       "      <td>6</td>\n",
       "    </tr>\n",
       "    <tr>\n",
       "      <th>1</th>\n",
       "      <td>113.857002</td>\n",
       "      <td>12</td>\n",
       "    </tr>\n",
       "    <tr>\n",
       "      <th>2</th>\n",
       "      <td>114.027702</td>\n",
       "      <td>16</td>\n",
       "    </tr>\n",
       "    <tr>\n",
       "      <th>3</th>\n",
       "      <td>114.044800</td>\n",
       "      <td>0</td>\n",
       "    </tr>\n",
       "    <tr>\n",
       "      <th>4</th>\n",
       "      <td>114.026199</td>\n",
       "      <td>14</td>\n",
       "    </tr>\n",
       "    <tr>\n",
       "      <th>...</th>\n",
       "      <td>...</td>\n",
       "      <td>...</td>\n",
       "    </tr>\n",
       "    <tr>\n",
       "      <th>1999</th>\n",
       "      <td>114.028397</td>\n",
       "      <td>16</td>\n",
       "    </tr>\n",
       "    <tr>\n",
       "      <th>2000</th>\n",
       "      <td>113.935081</td>\n",
       "      <td>22</td>\n",
       "    </tr>\n",
       "    <tr>\n",
       "      <th>2001</th>\n",
       "      <td>113.863953</td>\n",
       "      <td>21</td>\n",
       "    </tr>\n",
       "    <tr>\n",
       "      <th>2002</th>\n",
       "      <td>113.843231</td>\n",
       "      <td>3</td>\n",
       "    </tr>\n",
       "    <tr>\n",
       "      <th>2003</th>\n",
       "      <td>113.823532</td>\n",
       "      <td>11</td>\n",
       "    </tr>\n",
       "  </tbody>\n",
       "</table>\n",
       "<p>2004 rows × 2 columns</p>\n",
       "</div>"
      ],
      "text/plain": [
       "            long  hour\n",
       "0     113.823898     6\n",
       "1     113.857002    12\n",
       "2     114.027702    16\n",
       "3     114.044800     0\n",
       "4     114.026199    14\n",
       "...          ...   ...\n",
       "1999  114.028397    16\n",
       "2000  113.935081    22\n",
       "2001  113.863953    21\n",
       "2002  113.843231     3\n",
       "2003  113.823532    11\n",
       "\n",
       "[2004 rows x 2 columns]"
      ]
     },
     "execution_count": 4,
     "metadata": {},
     "output_type": "execute_result"
    }
   ],
   "source": [
    "X"
   ]
  },
  {
   "cell_type": "code",
   "execution_count": 5,
   "metadata": {
    "colab": {
     "base_uri": "https://localhost:8080/",
     "height": 266
    },
    "colab_type": "code",
    "executionInfo": {
     "elapsed": 1089,
     "status": "ok",
     "timestamp": 1596481677599,
     "user": {
      "displayName": "Filipe Alves Neto Verri",
      "photoUrl": "https://lh3.googleusercontent.com/a-/AOh14GiV7MMHmrkaugHXPDugQgeGecRd4s4T4ngvv5_A=s64",
      "userId": "07219587087217491568"
     },
     "user_tz": 180
    },
    "id": "DakfMrUGte2y",
    "outputId": "6595f714-7a7f-4272-db4d-e527d93fda1b"
   },
   "outputs": [
    {
     "data": {
      "image/png": "[encoded data removed]",
      "text/plain": [
       "<Figure size 432x288 with 1 Axes>"
      ]
     },
     "metadata": {
      "needs_background": "light"
     },
     "output_type": "display_data"
    }
   ],
   "source": [
    "import matplotlib.pyplot as plt\n",
    "from sklearn.decomposition import PCA\n",
    "from sklearn.impute import SimpleImputer\n",
    "\n",
    "pca = PCA(n_components=2)\n",
    "imputer = SimpleImputer()\n",
    "\n",
    "Xpca = pca.fit_transform(imputer.fit_transform(X))\n",
    "\n",
    "plt.scatter(Xpca[:, 0], Xpca[:, 1])\n",
    "plt.show()"
   ]
  },
  {
   "cell_type": "code",
   "execution_count": 6,
   "metadata": {
    "colab": {},
    "colab_type": "code",
    "executionInfo": {
     "elapsed": 1077,
     "status": "ok",
     "timestamp": 1596464212679,
     "user": {
      "displayName": "Filipe Alves Neto Verri",
      "photoUrl": "https://lh3.googleusercontent.com/a-/AOh14GiV7MMHmrkaugHXPDugQgeGecRd4s4T4ngvv5_A=s64",
      "userId": "07219587087217491568"
     },
     "user_tz": 180
    },
    "id": "PDwOJhnVzYn5"
   },
   "outputs": [],
   "source": [
    "# Sementes aleatórias para reproducibilidade dos experimentos (reproducão dos experimentos)\n",
    "seeds = [11156, 28750, 3509, 20838, 5907, \n",
    "         20167, 10632, 26137, 12628, 13922, \n",
    "         1124, 32301, 17230, 21, 7432, \n",
    "         16445, 29820, 28931, 11104, 2741]\n",
    "# O ideal são 100 bootstraps"
   ]
  },
  {
   "cell_type": "markdown",
   "metadata": {
    "colab_type": "text",
    "id": "BR98vIZcp61l"
   },
   "source": [
    "## Determinando número de grupos"
   ]
  },
  {
   "cell_type": "code",
   "execution_count": 7,
   "metadata": {
    "colab": {},
    "colab_type": "code",
    "executionInfo": {
     "elapsed": 786,
     "status": "ok",
     "timestamp": 1596482200365,
     "user": {
      "displayName": "Filipe Alves Neto Verri",
      "photoUrl": "https://lh3.googleusercontent.com/a-/AOh14GiV7MMHmrkaugHXPDugQgeGecRd4s4T4ngvv5_A=s64",
      "userId": "07219587087217491568"
     },
     "user_tz": 180
    },
    "id": "_q-AKPuup8-s"
   },
   "outputs": [],
   "source": [
    "from sklearn.cluster import KMeans, AgglomerativeClustering, DBSCAN\n",
    "\n",
    "from sklearn.impute import SimpleImputer\n",
    "from sklearn.preprocessing import StandardScaler\n",
    "\n",
    "from sklearn.metrics import silhouette_score\n",
    "\n",
    "from sklearn.utils import resample"
   ]
  },
  {
   "cell_type": "code",
   "execution_count": 8,
   "metadata": {
    "colab": {
     "base_uri": "https://localhost:8080/",
     "height": 419
    },
    "colab_type": "code",
    "executionInfo": {
     "elapsed": 2700,
     "status": "ok",
     "timestamp": 1596482448960,
     "user": {
      "displayName": "Filipe Alves Neto Verri",
      "photoUrl": "https://lh3.googleusercontent.com/a-/AOh14GiV7MMHmrkaugHXPDugQgeGecRd4s4T4ngvv5_A=s64",
      "userId": "07219587087217491568"
     },
     "user_tz": 180
    },
    "id": "kPEB_-MlqYrT",
    "outputId": "061ad5e2-c402-4e57-8341-ce0afce947c3"
   },
   "outputs": [
    {
     "name": "stdout",
     "output_type": "stream",
     "text": [
      "         k=2       k=3       k=4       k=5       k=6       k=7       k=8  \\\n",
      "0   0.388540  0.404265  0.447041  0.434354  0.407939  0.423566  0.412152   \n",
      "1   0.393217  0.413924  0.448039  0.450592  0.416918  0.428860  0.430061   \n",
      "2   0.393043  0.399462  0.442364  0.431696  0.420743  0.439205  0.433635   \n",
      "3   0.396299  0.408952  0.447768  0.434487  0.408052  0.426323  0.419121   \n",
      "4   0.381518  0.391484  0.435320  0.435367  0.415446  0.433157  0.421505   \n",
      "5   0.393180  0.400537  0.444443  0.437708  0.417427  0.441569  0.433373   \n",
      "6   0.390627  0.415343  0.449492  0.442129  0.407931  0.421620  0.412182   \n",
      "7   0.391434  0.400324  0.439632  0.444037  0.420462  0.432017  0.429398   \n",
      "8   0.387612  0.402004  0.443981  0.430111  0.402248  0.419213  0.417008   \n",
      "9   0.391493  0.409661  0.451873  0.445400  0.414497  0.433001  0.430162   \n",
      "10  0.384759  0.397004  0.436499  0.427494  0.406126  0.425881  0.410835   \n",
      "11  0.385093  0.398452  0.433843  0.435793  0.406961  0.421578  0.414465   \n",
      "12  0.388213  0.393811  0.446264  0.442086  0.410491  0.420700  0.406580   \n",
      "13  0.388383  0.397369  0.441817  0.416974  0.405585  0.426072  0.411371   \n",
      "14  0.398424  0.406336  0.454397  0.448355  0.415193  0.436740  0.425107   \n",
      "15  0.393918  0.414792  0.450071  0.445880  0.410153  0.434085  0.429039   \n",
      "16  0.393686  0.403876  0.448711  0.441334  0.417430  0.439271  0.436207   \n",
      "17  0.387601  0.392158  0.438110  0.431605  0.408482  0.426381  0.415650   \n",
      "18  0.393353  0.416006  0.457070  0.450653  0.412945  0.424522  0.423639   \n",
      "19  0.398568  0.406641  0.454617  0.424221  0.414543  0.427039  0.416472   \n",
      "\n",
      "         k=9      k=10      k=11      k=12      k=13      k=14      k=15  \\\n",
      "0   0.415440  0.404562  0.415863  0.414572  0.395706  0.400880  0.398732   \n",
      "1   0.413995  0.409443  0.416026  0.399054  0.400323  0.399959  0.386590   \n",
      "2   0.431598  0.406578  0.414555  0.418441  0.397973  0.412528  0.389197   \n",
      "3   0.414997  0.413435  0.419251  0.419965  0.408854  0.395366  0.391692   \n",
      "4   0.413347  0.399745  0.408242  0.400380  0.409119  0.397332  0.399043   \n",
      "5   0.416394  0.407095  0.416617  0.418067  0.407111  0.415817  0.395956   \n",
      "6   0.404697  0.405868  0.400920  0.409877  0.405970  0.394919  0.390710   \n",
      "7   0.426178  0.417672  0.417737  0.404009  0.402346  0.402864  0.405540   \n",
      "8   0.408089  0.402971  0.412606  0.398704  0.398018  0.400985  0.403322   \n",
      "9   0.414853  0.413696  0.416262  0.405028  0.404299  0.409971  0.395621   \n",
      "10  0.406534  0.401176  0.407289  0.393718  0.398561  0.396019  0.402451   \n",
      "11  0.404625  0.408696  0.412387  0.414539  0.400060  0.409365  0.397941   \n",
      "12  0.407625  0.402355  0.403509  0.397066  0.396031  0.399015  0.403257   \n",
      "13  0.413449  0.407894  0.415247  0.415121  0.418022  0.413712  0.408392   \n",
      "14  0.408439  0.404391  0.407228  0.414717  0.411091  0.412466  0.407897   \n",
      "15  0.410732  0.412402  0.418441  0.422794  0.398163  0.406560  0.406025   \n",
      "16  0.429288  0.413281  0.410462  0.406833  0.400323  0.386731  0.396838   \n",
      "17  0.410106  0.405566  0.409335  0.396360  0.398356  0.400343  0.391955   \n",
      "18  0.414931  0.408965  0.414520  0.413896  0.413486  0.397719  0.387599   \n",
      "19  0.408382  0.398575  0.414698  0.402394  0.401856  0.411351  0.417636   \n",
      "\n",
      "        k=16      k=17      k=18      k=19  \n",
      "0   0.397758  0.385042  0.393171  0.399457  \n",
      "1   0.397808  0.380354  0.387245  0.390604  \n",
      "2   0.390793  0.388077  0.387284  0.393111  \n",
      "3   0.408440  0.406302  0.398140  0.397646  \n",
      "4   0.390720  0.396040  0.395223  0.401463  \n",
      "5   0.415733  0.413389  0.399421  0.397207  \n",
      "6   0.389021  0.404883  0.391549  0.389737  \n",
      "7   0.408751  0.391465  0.408686  0.397213  \n",
      "8   0.394827  0.403845  0.404136  0.401571  \n",
      "9   0.398395  0.401095  0.398460  0.407695  \n",
      "10  0.402946  0.386810  0.389683  0.394569  \n",
      "11  0.396969  0.388554  0.387304  0.393319  \n",
      "12  0.397894  0.392526  0.393595  0.394436  \n",
      "13  0.416765  0.406201  0.391321  0.398699  \n",
      "14  0.408568  0.411763  0.397669  0.402926  \n",
      "15  0.398130  0.412245  0.398030  0.401086  \n",
      "16  0.407076  0.400943  0.399206  0.397364  \n",
      "17  0.384812  0.389067  0.387540  0.390878  \n",
      "18  0.387308  0.387933  0.388438  0.399299  \n",
      "19  0.414219  0.415842  0.398115  0.403846  \n"
     ]
    }
   ],
   "source": [
    "result = {}\n",
    "for k in range(2, 20):\n",
    "  result[f'k={k}'] = []\n",
    "  for seed in seeds:\n",
    "    imputer = SimpleImputer(strategy='mean')\n",
    "    scaler = StandardScaler()\n",
    "    alg = KMeans(n_clusters=k, random_state=seed)\n",
    "    #alg = AgglomerativeClustering(n_clusters=k, linkage='single')\n",
    "\n",
    "    Xb = resample(X, random_state=seed) # Reamostragem da base de dados (bootstrapping)\n",
    "    Xb = scaler.fit_transform(imputer.fit_transform(Xb))\n",
    "\n",
    "    clusters = alg.fit_predict(Xb)\n",
    "    result[f'k={k}'].append(silhouette_score(Xb, clusters))\n",
    "\n",
    "result = pd.DataFrame.from_dict(result)\n",
    "print(result)"
   ]
  },
  {
   "cell_type": "code",
   "execution_count": 10,
   "metadata": {
    "colab": {
     "base_uri": "https://localhost:8080/",
     "height": 192
    },
    "colab_type": "code",
    "executionInfo": {
     "elapsed": 1951,
     "status": "ok",
     "timestamp": 1596482448961,
     "user": {
      "displayName": "Filipe Alves Neto Verri",
      "photoUrl": "https://lh3.googleusercontent.com/a-/AOh14GiV7MMHmrkaugHXPDugQgeGecRd4s4T4ngvv5_A=s64",
      "userId": "07219587087217491568"
     },
     "user_tz": 180
    },
    "id": "DCWudhbLwPK8",
    "outputId": "a0f616b7-d733-4d5c-b51c-576fde37c5a7"
   },
   "outputs": [
    {
     "data": {
      "text/plain": [
       "k=2     0.39 ± 0.00\n",
       "k=3     0.40 ± 0.01\n",
       "k=4     0.45 ± 0.01\n",
       "k=5     0.44 ± 0.01\n",
       "k=6     0.41 ± 0.01\n",
       "k=7     0.43 ± 0.01\n",
       "k=8     0.42 ± 0.01\n",
       "k=9     0.41 ± 0.01\n",
       "k=10    0.41 ± 0.01\n",
       "k=11    0.41 ± 0.01\n",
       "k=12    0.41 ± 0.01\n",
       "k=13    0.40 ± 0.01\n",
       "k=14    0.40 ± 0.01\n",
       "k=15    0.40 ± 0.01\n",
       "k=16    0.40 ± 0.01\n",
       "k=17    0.40 ± 0.01\n",
       "k=18    0.39 ± 0.01\n",
       "k=19    0.40 ± 0.00\n",
       "dtype: object"
      ]
     },
     "execution_count": 10,
     "metadata": {},
     "output_type": "execute_result"
    }
   ],
   "source": [
    "result.apply(lambda x: \"{:.2f} ± {:.2f}\".format(x.mean(), x.std()))"
   ]
  },
  {
   "cell_type": "code",
   "execution_count": 12,
   "metadata": {
    "colab": {
     "base_uri": "https://localhost:8080/",
     "height": 265
    },
    "colab_type": "code",
    "executionInfo": {
     "elapsed": 1311,
     "status": "ok",
     "timestamp": 1596482448961,
     "user": {
      "displayName": "Filipe Alves Neto Verri",
      "photoUrl": "https://lh3.googleusercontent.com/a-/AOh14GiV7MMHmrkaugHXPDugQgeGecRd4s4T4ngvv5_A=s64",
      "userId": "07219587087217491568"
     },
     "user_tz": 180
    },
    "id": "Hi3c1ZioscG6",
    "outputId": "9f177f94-dd79-4844-b18a-3d0dcf2728ef"
   },
   "outputs": [
    {
     "data": {
      "image/png": "[encoded data removed]",
      "text/plain": [
       "<Figure size 432x288 with 1 Axes>"
      ]
     },
     "metadata": {
      "needs_background": "light"
     },
     "output_type": "display_data"
    }
   ],
   "source": [
    "import matplotlib.pyplot as plt\n",
    "plt.plot(range(2, 20), result.mean())\n",
    "plt.errorbar(range(2, 20), result.mean(), result.std())\n",
    "plt.show()"
   ]
  },
  {
   "cell_type": "markdown",
   "metadata": {
    "colab_type": "text",
    "id": "RRUDVlyiDtuH"
   },
   "source": [
    "## Melhores grupos (deploying)"
   ]
  },
  {
   "cell_type": "code",
   "execution_count": 12,
   "metadata": {
    "colab": {
     "base_uri": "https://localhost:8080/",
     "height": 594
    },
    "colab_type": "code",
    "executionInfo": {
     "elapsed": 820,
     "status": "ok",
     "timestamp": 1596484684400,
     "user": {
      "displayName": "Filipe Alves Neto Verri",
      "photoUrl": "https://lh3.googleusercontent.com/a-/AOh14GiV7MMHmrkaugHXPDugQgeGecRd4s4T4ngvv5_A=s64",
      "userId": "07219587087217491568"
     },
     "user_tz": 180
    },
    "id": "1bgVLxH9Nyf5",
    "outputId": "7339dd99-c49a-455b-a03b-1e2a86ee6f00"
   },
   "outputs": [],
   "source": [
    "imputer = SimpleImputer(strategy='mean')\n",
    "scaler = StandardScaler()\n",
    "Xfixed = imputer.fit_transform(scaler.fit_transform(X))\n",
    "\n",
    "alg = KMeans(n_clusters=4, random_state=seed)\n",
    "clusters = alg.fit_predict(Xfixed)"
   ]
  },
  {
   "cell_type": "code",
   "execution_count": 13,
   "metadata": {
    "colab": {
     "base_uri": "https://localhost:8080/",
     "height": 266
    },
    "colab_type": "code",
    "executionInfo": {
     "elapsed": 805,
     "status": "ok",
     "timestamp": 1596484690111,
     "user": {
      "displayName": "Filipe Alves Neto Verri",
      "photoUrl": "https://lh3.googleusercontent.com/a-/AOh14GiV7MMHmrkaugHXPDugQgeGecRd4s4T4ngvv5_A=s64",
      "userId": "07219587087217491568"
     },
     "user_tz": 180
    },
    "id": "HOOh16zn5Gic",
    "outputId": "937a4d7e-efe7-43ea-d834-417ace6fc129"
   },
   "outputs": [
    {
     "data": {
      "image/png": "[encoded data removed]",
      "text/plain": [
       "<Figure size 432x288 with 1 Axes>"
      ]
     },
     "metadata": {
      "needs_background": "light"
     },
     "output_type": "display_data"
    }
   ],
   "source": [
    "for k in range(4):\n",
    "    plt.scatter(Xpca[np.where(clusters == k), 0], Xpca[np.where(clusters == k), 1], color=['red', 'blue', 'green', 'yellow', 'gray'][k])\n",
    "plt.show()"
   ]
  },
  {
   "cell_type": "code",
   "execution_count": 14,
   "metadata": {},
   "outputs": [],
   "source": [
    "k = 4\n",
    "algorithms = {\n",
    "    'kmeans':  KMeans(n_clusters=k),\n",
    "    'single': AgglomerativeClustering(n_clusters=k, linkage='single'),\n",
    "    'average': AgglomerativeClustering(n_clusters=k, linkage='average'),\n",
    "    'complete': AgglomerativeClustering(n_clusters=k, linkage='complete'),\n",
    "    'dbscan': DBSCAN(eps = 0.09, min_samples = 2, metric = 'euclidean'),\n",
    "}"
   ]
  },
  {
   "cell_type": "code",
   "execution_count": 15,
   "metadata": {},
   "outputs": [],
   "source": [
    "result = {}\n",
    "for key, alg in algorithms.items():\n",
    "  result[key] = []\n",
    "  for seed in seeds:\n",
    "    imputer = SimpleImputer(strategy='mean')\n",
    "    scaler = StandardScaler()\n",
    "\n",
    "    Xb = scaler.fit_transform(imputer.fit_transform(resample(X, random_state=seed)))\n",
    "    clusters = alg.fit_predict(Xb)\n",
    "    result[key].append(silhouette_score(Xb, clusters))\n",
    "\n",
    "result = pd.DataFrame.from_dict(result)"
   ]
  },
  {
   "cell_type": "code",
   "execution_count": 16,
   "metadata": {},
   "outputs": [
    {
     "name": "stdout",
     "output_type": "stream",
     "text": [
      "      kmeans    single   average  complete    dbscan\n",
      "0   0.447041  0.204495  0.332667  0.384457  0.390076\n",
      "1   0.448039  0.130780  0.306762  0.329706  0.354617\n",
      "2   0.442364  0.182895  0.239124  0.368498  0.378397\n",
      "3   0.447768  0.085363  0.374252  0.383293  0.394051\n",
      "4   0.436150  0.177716  0.266940  0.326755  0.378728\n",
      "5   0.444443  0.181733  0.344890  0.379448  0.372575\n",
      "6   0.449492  0.133792  0.304673  0.357402  0.411695\n",
      "7   0.439632  0.107701  0.325825  0.353998  0.356952\n",
      "8   0.443981  0.194967  0.342988  0.317260  0.357254\n",
      "9   0.451918  0.205531  0.313657  0.399087  0.381322\n",
      "10  0.436499  0.169616  0.297616  0.354946  0.410457\n",
      "11  0.433790  0.204241  0.353347  0.395571  0.438069\n",
      "12  0.445397  0.175640  0.337442  0.349802  0.389597\n",
      "13  0.441817  0.148752  0.309447  0.376740  0.375637\n",
      "14  0.454371 -0.107817  0.407368  0.376935  0.349533\n",
      "15  0.450071  0.205470  0.418312  0.376031  0.412282\n",
      "16  0.448711  0.063821  0.396287  0.357230  0.326239\n",
      "17  0.438110  0.115534  0.361221  0.363653  0.371334\n",
      "18  0.457126  0.179490  0.404873  0.325235  0.357093\n",
      "19  0.454617  0.200537  0.365628  0.381012  0.381174\n"
     ]
    }
   ],
   "source": [
    "print(result)"
   ]
  },
  {
   "cell_type": "code",
   "execution_count": 17,
   "metadata": {},
   "outputs": [
    {
     "data": {
      "text/plain": [
       "kmeans      0.45 ± 0.01\n",
       "single      0.15 ± 0.07\n",
       "average     0.34 ± 0.05\n",
       "complete    0.36 ± 0.02\n",
       "dbscan      0.38 ± 0.03\n",
       "dtype: object"
      ]
     },
     "execution_count": 17,
     "metadata": {},
     "output_type": "execute_result"
    }
   ],
   "source": [
    "result.apply(lambda x: \"{:.2f} ± {:.2f}\".format(x.mean(), x.std()))"
   ]
  },
  {
   "cell_type": "code",
   "execution_count": 18,
   "metadata": {},
   "outputs": [
    {
     "data": {
      "image/png": "[encoded data removed]",
      "text/plain": [
       "<Figure size 432x288 with 1 Axes>"
      ]
     },
     "metadata": {
      "needs_background": "light"
     },
     "output_type": "display_data"
    }
   ],
   "source": [
    "import matplotlib.pyplot as plt\n",
    "\n",
    "plt.boxplot([ scores for alg, scores in result.iteritems() ])\n",
    "plt.xticks(1 + np.arange(result.shape[1]), result.columns)\n",
    "plt.show()"
   ]
  },
  {
   "cell_type": "code",
   "execution_count": null,
   "metadata": {},
   "outputs": [],
   "source": []
  }
 ],
 "metadata": {
  "colab": {
   "authorship_tag": "ABX9TyOBeoFkO1VUzSREtgJjSQNZ",
   "name": "11 - Agrupamento de Dados.ipynb",
   "provenance": []
  },
  "kernelspec": {
   "display_name": "Python 3",
   "language": "python",
   "name": "python3"
  },
  "language_info": {
   "codemirror_mode": {
    "name": "ipython",
    "version": 3
   },
   "file_extension": ".py",
   "mimetype": "text/x-python",
   "name": "python",
   "nbconvert_exporter": "python",
   "pygments_lexer": "ipython3",
   "version": "3.9.2"
  }
 },
 "nbformat": 4,
 "nbformat_minor": 4
}
